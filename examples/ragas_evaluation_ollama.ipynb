{
 "cells": [
  {
   "cell_type": "markdown",
   "metadata": {},
   "source": [
    "<h2>RAG EVALUATION WITH RAGAS FRAMEWORK, LANGCHAIN, OLLAMA HOSTED LLM MODELS</h2>"
   ]
  },
  {
   "cell_type": "code",
   "execution_count": null,
   "metadata": {},
   "outputs": [],
   "source": [
    "import os\n",
    "from langchain_ollama import ChatOllama\n",
    "from langchain_core.messages import AIMessage\n",
    "from langchain_core.documents import Document\n",
    "from langchain_core.vectorstores import InMemoryVectorStore\n",
    "from langchain_huggingface import HuggingFaceEmbeddings\n",
    "from langchain_core.prompts import ChatPromptTemplate\n",
    "from langchain_core.output_parsers import StrOutputParser\n",
    "from langchain_core.callbacks import BaseCallbackHandler\n",
    "\n",
    "from ragas import EvaluationDataset, evaluate\n",
    "from ragas.llms import LangchainLLMWrapper\n",
    "from ragas.embeddings import LangchainEmbeddingsWrapper\n",
    "from ragas.run_config import RunConfig\n",
    "from ragas.metrics import LLMContextRecall, Faithfulness, FactualCorrectness"
   ]
  },
  {
   "cell_type": "code",
   "execution_count": null,
   "metadata": {},
   "outputs": [],
   "source": [
    "llm = ChatOllama(\n",
    "    model=\"llama3.2\",\n",
    "    temperature=0,\n",
    "    #num_predict=64,\n",
    "    top_k=10,\n",
    "    #num_ctx=512\n",
    ")\n",
    "embed_model = HuggingFaceEmbeddings(model_name=os.getenv('EMBEDDING_MODEL_PATH'))\n",
    "vector_store = InMemoryVectorStore(embed_model)"
   ]
  },
  {
   "cell_type": "code",
   "execution_count": null,
   "metadata": {},
   "outputs": [],
   "source": [
    "messages = [\n",
    "    (\n",
    "        \"system\",\n",
    "        \"You are a helpful assistant that translates English to French. Translate the user sentence.\",\n",
    "    ),\n",
    "    (\"human\", \"I love programming.\"),\n",
    "]\n",
    "ai_msg = llm.invoke(messages)\n",
    "ai_msg"
   ]
  },
  {
   "cell_type": "code",
   "execution_count": 4,
   "metadata": {},
   "outputs": [],
   "source": [
    "content_list = [\n",
    "    \"Andrew Ng is the CEO of Landing AI and is known for his pioneering work in deep learning. He is also widely recognized for democratizing AI education through platforms like Coursera.\",\n",
    "    \"Sam Altman is the CEO of OpenAI and has played a key role in advancing AI research and development. He is a strong advocate for creating safe and beneficial AI technologies.\",\n",
    "    \"Demis Hassabis is the CEO of DeepMind and is celebrated for his innovative approach to artificial intelligence. He gained prominence for developing systems that can master complex games like AlphaGo.\",\n",
    "    \"Sundar Pichai is the CEO of Google and Alphabet Inc., and he is praised for leading innovation across Google's vast product ecosystem. His leadership has significantly enhanced user experiences on a global scale.\",\n",
    "    \"Arvind Krishna is the CEO of IBM and is recognized for transforming the company towards cloud computing and AI solutions. He focuses on providing cutting-edge technologies to address modern business challenges.\",\n",
    "]\n",
    "\n",
    "langchain_documents = []\n",
    "\n",
    "for content in content_list:\n",
    "    langchain_documents.append(\n",
    "        Document(\n",
    "            page_content=content,\n",
    "        )\n",
    "    )"
   ]
  },
  {
   "cell_type": "code",
   "execution_count": 5,
   "metadata": {},
   "outputs": [],
   "source": [
    "_ = vector_store.add_documents(langchain_documents)\n",
    "retriever = vector_store.as_retriever(search_kwargs={\"k\": 1})"
   ]
  },
  {
   "cell_type": "code",
   "execution_count": 17,
   "metadata": {},
   "outputs": [],
   "source": [
    "template = \"\"\"Answer the question based only on the following context:\n",
    "{context}\n",
    "\n",
    "Question: {query}\n",
    "\"\"\"\n",
    "prompt = ChatPromptTemplate.from_template(template)\n",
    "\n",
    "qa_chain = prompt | llm | StrOutputParser()"
   ]
  },
  {
   "cell_type": "code",
   "execution_count": 18,
   "metadata": {},
   "outputs": [],
   "source": [
    "def format_docs(relevant_docs):\n",
    "    return \"\\n\".join(doc.page_content for doc in relevant_docs)\n",
    "\n",
    "query = \"Who is the CEO of OpenAI?\"\n",
    "\n",
    "#relevant_docs = retriever.invoke(query)\n",
    "#qa_chain.invoke({\"context\": format_docs(relevant_docs), \"query\": query})"
   ]
  },
  {
   "cell_type": "code",
   "execution_count": 8,
   "metadata": {},
   "outputs": [],
   "source": [
    "sample_queries = [\n",
    "#    \"Which CEO is widely recognized for democratizing AI education through platforms like Coursera?\",\n",
    "    \"Who is Sam Altman?\",\n",
    "#    \"Who is Demis Hassabis and how did he gained prominence?\",\n",
    "#    \"Who is the CEO of Google and Alphabet Inc., praised for leading innovation across Google's product ecosystem?\",\n",
    "#    \"How did Arvind Krishna transformed IBM?\",\n",
    "]\n",
    "\n",
    "expected_responses = [\n",
    "#    \"Andrew Ng is the CEO of Landing AI and is widely recognized for democratizing AI education through platforms like Coursera.\",\n",
    "    \"Sam Altman is the CEO of OpenAI and has played a key role in advancing AI research and development. He strongly advocates for creating safe and beneficial AI technologies.\",\n",
    "#    \"Demis Hassabis is the CEO of DeepMind and is celebrated for his innovative approach to artificial intelligence. He gained prominence for developing systems like AlphaGo that can master complex games.\",\n",
    "#    \"Sundar Pichai is the CEO of Google and Alphabet Inc., praised for leading innovation across Google's vast product ecosystem. His leadership has significantly enhanced user experiences globally.\",\n",
    "#    \"Arvind Krishna is the CEO of IBM and has transformed the company towards cloud computing and AI solutions. He focuses on delivering cutting-edge technologies to address modern business challenges.\",\n",
    "]"
   ]
  },
  {
   "cell_type": "code",
   "execution_count": 19,
   "metadata": {},
   "outputs": [],
   "source": [
    "dataset = []\n",
    "\n",
    "for query, reference in zip(sample_queries, expected_responses):\n",
    "    relevant_docs = retriever.invoke(query)\n",
    "    response = qa_chain.invoke({\"context\": format_docs(relevant_docs), \"query\": query})\n",
    "    dataset.append(\n",
    "        {\n",
    "            \"user_input\": query,\n",
    "            \"retrieved_contexts\": [rdoc.page_content for rdoc in relevant_docs],\n",
    "            \"response\": response,\n",
    "            \"reference\": reference,\n",
    "        }\n",
    "    )\n",
    "\n",
    "evaluation_dataset = EvaluationDataset.from_list(dataset)"
   ]
  },
  {
   "cell_type": "code",
   "execution_count": null,
   "metadata": {},
   "outputs": [],
   "source": [
    "evaluator_llm = LangchainLLMWrapper(llm)\n",
    "evaluator_embed = LangchainEmbeddingsWrapper(embed_model)\n",
    "\n",
    "my_run_config = RunConfig(max_workers=5, timeout=200, max_retries=3)\n",
    "\n",
    "class TestCallback(BaseCallbackHandler):\n",
    "\n",
    "    def on_llm_start(self, serialized, prompts, **kwargs):\n",
    "        print(f\"**********Prompts*********:\\n {prompts[0]}\\n\\n\")\n",
    "\n",
    "    def on_llm_end(self, response, **kwargs):\n",
    "        print(f\"**********Response**********:\\n {response}\\n\\n\")\n",
    "\n",
    "result = evaluate(\n",
    "    dataset=evaluation_dataset,\n",
    "    metrics=[Faithfulness()], #, LLMContextRecall(), FactualCorrectness()\n",
    "    llm=evaluator_llm,\n",
    "    embeddings=evaluator_embed,\n",
    "    run_config=my_run_config,\n",
    "    raise_exceptions=True,\n",
    "    callbacks=[TestCallback()],\n",
    "    #batch_size=2,\n",
    ")\n",
    "\n",
    "result"
   ]
  },
  {
   "cell_type": "markdown",
   "metadata": {},
   "source": [
    "<h4>This RAGAS evaluation gives TimeoutError issues with Ollama Model inference on CPU based machines</h4>"
   ]
  }
 ],
 "metadata": {
  "kernelspec": {
   "display_name": "ag_venv",
   "language": "python",
   "name": "python3"
  },
  "language_info": {
   "codemirror_mode": {
    "name": "ipython",
    "version": 3
   },
   "file_extension": ".py",
   "mimetype": "text/x-python",
   "name": "python",
   "nbconvert_exporter": "python",
   "pygments_lexer": "ipython3",
   "version": "3.11.6"
  }
 },
 "nbformat": 4,
 "nbformat_minor": 2
}
